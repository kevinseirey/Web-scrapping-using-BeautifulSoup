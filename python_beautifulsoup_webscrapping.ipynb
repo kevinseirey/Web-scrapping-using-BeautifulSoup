{
 "cells": [
  {
   "attachments": {},
   "cell_type": "markdown",
   "metadata": {},
   "source": [
    "# Web scrapping using BeautifulSoup\n",
    "\n",
    "Web scrapping experiment using BeautifulSoup.\n",
    "Actions performed:\n",
    "- Read all house posters acording to filter selected (rentals in montreal, e.g.)\n",
    "- Read 10 pages of search, clean texts, put in dataframe\n",
    "- Save into CSV file"
   ]
  },
  {
   "cell_type": "code",
   "execution_count": 6,
   "metadata": {},
   "outputs": [],
   "source": [
    "from bs4 import BeautifulSoup\n",
    "import requests\n",
    "import urllib.request\n",
    "import pandas as pd\n",
    "from pandas import DataFrame\n",
    "import datetime\n",
    "import os\n",
    "\n",
    "def pagebot():\n",
    "    #Search filtered only by rentals in montreal\n",
    "    #Full url - https://www.kijiji.ca/b-a-louer/ville-de-montreal/page-1/c30349001l1700281\n",
    "    base_url = 'https://www.kijiji.ca/b-a-louer/ville-de-montreal/page-'\n",
    "    url_separator = '/c30349001l1700281'\n",
    "    housedata_Format = []\n",
    "\n",
    "    for page_num in range(10):\n",
    "        url = base_url + str(page_num) + url_separator\n",
    "        response = requests.get(url)\n",
    "        soupcontent = BeautifulSoup(response.text, 'html.parser')\n",
    "        houses = soupcontent.find_all(lambda tag: tag.name == 'div' and tag.get('class') == ['clearfix']) #lambda to specify DIV and CLEARFIX exactly\n",
    "        #Verify\n",
    "        #for test in soupcontent:\n",
    "        #    print(test.text, \"////\")\n",
    "\n",
    "        for i in houses:\n",
    "            house_name = i.find('div', {'class':'title'}).get_text()\n",
    "            house_price = i.find('div', {'class':'price'}).get_text()\n",
    "            #try catch on bedrooms because some are not showing the info\n",
    "            try:\n",
    "                house_bed = i.find('span', {'class':'bedrooms'}).get_text()\n",
    "            except AttributeError:\n",
    "                house_bed = \"\"\n",
    "            house_location = i.find('div', {'class':'location'}).get_text()\n",
    "            house_description = i.find('div', {'class':'description'}).get_text()\n",
    "\n",
    "            format_housename = ' '.join(house_name.strip().replace('\\n', '').split())\n",
    "            format_houseprice = ' '.join(house_price.strip().replace('$', '').split())\n",
    "            format_housebed = ' '.join(house_bed.strip().replace('\\n', '').split())\n",
    "            format_houselocation = ' '.join(house_location.strip().replace('\\n', '').split())\n",
    "            format_housedescription = ' '.join(house_description.strip().replace('\\n', '').split())\n",
    "\n",
    "            house_record = [format_housename, format_houseprice, format_housebed, format_houselocation, format_housedescription, datetime.date.today()]\n",
    "            housedata_Format.append(house_record)\n",
    "\n",
    "    #Verify\n",
    "    #for row in housedata_Format:\n",
    "    #    print(row)\n",
    "\n",
    "    #Save into CSV\n",
    "    #print(df)\n",
    "    df = pd.DataFrame(housedata_Format, columns = ['House Poster', 'Price', '# of Bedrooms', 'Location', 'Description', 'Record ts'])\n",
    "    if not os.path.isfile('filename.csv'):\n",
    "        df.to_csv('HousingMontrealScrapping.csv')\n",
    "    else:\n",
    "        df.to_csv('HousingMontrealScrapping.csv', mode='a', header=False)\n",
    "\n"
   ]
  },
  {
   "cell_type": "code",
   "execution_count": null,
   "metadata": {},
   "outputs": [],
   "source": [
    "pagebot()"
   ]
  }
 ],
 "metadata": {
  "kernelspec": {
   "display_name": "Python 3",
   "language": "python",
   "name": "python3"
  },
  "language_info": {
   "codemirror_mode": {
    "name": "ipython",
    "version": 3
   },
   "file_extension": ".py",
   "mimetype": "text/x-python",
   "name": "python",
   "nbconvert_exporter": "python",
   "pygments_lexer": "ipython3",
   "version": "3.10.7"
  },
  "orig_nbformat": 4,
  "vscode": {
   "interpreter": {
    "hash": "bd5508c2ffc7f17f7d31cf4086cc872f89e96996a08987e995649e5fbe85a3a4"
   }
  }
 },
 "nbformat": 4,
 "nbformat_minor": 2
}
